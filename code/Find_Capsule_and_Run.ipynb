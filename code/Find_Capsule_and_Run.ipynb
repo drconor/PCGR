{
 "cells": [
  {
   "cell_type": "markdown",
   "id": "94738708-e68b-4cfa-8be8-4d5a36e1631a",
   "metadata": {
    "editable": true,
    "slideshow": {
     "slide_type": ""
    },
    "tags": []
   },
   "source": [
    "## First Use-case\n",
    "\n",
    "1. Attach/detach data assets\n",
    "2. Create a results asset from folders saved within “results” folder\n",
    "3. Is it possible to do so from another capsule?\n"
   ]
  },
  {
   "cell_type": "markdown",
   "id": "90e0ba4e-a779-4ff8-94de-bc3f047834d4",
   "metadata": {
    "editable": true,
    "slideshow": {
     "slide_type": ""
    },
    "tags": []
   },
   "source": [
    "### Let's import modules & authenticate"
   ]
  },
  {
   "cell_type": "code",
   "execution_count": 26,
   "id": "b6e93a65-b1b5-41bc-ba7c-6f897a015a26",
   "metadata": {
    "editable": true,
    "slideshow": {
     "slide_type": ""
    },
    "tags": []
   },
   "outputs": [],
   "source": [
    "#Import Libs\n",
    "import os\n",
    "from codeocean import CodeOcean\n",
    "from codeocean.capsule import CapsuleSearchParams\n",
    "from codeocean.components import UserPermissions, EveryoneRole, UserRole, SearchFilter\n",
    "from codeocean.computation import RunParams, DataAssetsRunParam, PipelineProcessParams, NamedRunParam\n",
    "from codeocean.data_asset import AWSS3Source, ComputationSource, DataAssetParams, Permissions, Source, Target, DataAssetAttachParams\n",
    "import datetime"
   ]
  },
  {
   "cell_type": "code",
   "execution_count": 27,
   "id": "078ffc1f-286e-4fec-98de-a18a071928cf",
   "metadata": {
    "editable": true,
    "slideshow": {
     "slide_type": ""
    },
    "tags": []
   },
   "outputs": [],
   "source": [
    "#Authenticate with CO API\n",
    "co_api_token = os.getenv(\"CUSTOM_KEY\")\n",
    "co_domain = \"https://acmecorp-cfn-demo.codeocean.com\"\n",
    "client=CodeOcean(domain=co_domain,token=co_api_token)"
   ]
  },
  {
   "cell_type": "markdown",
   "id": "0171f2df-0a22-415d-8f5c-e7901b498bab",
   "metadata": {
    "editable": true,
    "slideshow": {
     "slide_type": ""
    },
    "tags": []
   },
   "source": [
    "### Search for a named Capsule and get its ID:"
   ]
  },
  {
   "cell_type": "code",
   "execution_count": 28,
   "id": "82692b60-15cf-465a-8c0d-bd7a2eaf504c",
   "metadata": {
    "editable": true,
    "slideshow": {
     "slide_type": ""
    },
    "tags": []
   },
   "outputs": [
    {
     "name": "stdout",
     "output_type": "stream",
     "text": [
      "\n",
      "Capsule Information:\n",
      "--------------------------------------------------\n",
      "Name: Personal Cancer Genome Reporter\n",
      "ID: dc428b3a-823d-4939-b4c4-a644df1f51b3\n",
      "Status: release\n",
      "Field: Medical Sciences\n",
      "Owner ID: ab7da5e2-ae96-437f-8085-693deea17f7c\n",
      "Slug: 4613209\n",
      "\n",
      "Description:\n",
      "The Personal Cancer Genome Reporter (PCGR) is a stand-alone software package for functional annotation and translation of individual tumor genomes for precision cancer medicine. It interprets primarily somatic SNVs/InDels and copy number aberrations, and has additional support for interpretation of bulk RNA-seq expression data. The software classifies variants both with respect to oncogenicity, and actionability. Interactive HTML output reports allow the user to interrogate the clinical impact of the molecular findings in an individual tumor.\n",
      "\n",
      "Available Versions:\n",
      "  - v1.0 (Released: 1737454567)\n",
      "  - v2.0 (Released: 1738675213)\n",
      "  - v3.0 (Released: 1739110102)\n",
      "  - v4.0 (Released: 1739276798)\n",
      "  - v5.0 (Released: 1739407606)\n",
      "  - v6.0 (Released: 1739408059)\n",
      "\n",
      "--------------------------------------------------\n",
      "PCGR Capsule ID: dc428b3a-823d-4939-b4c4-a644df1f51b3\n"
     ]
    }
   ],
   "source": [
    "import json #\n",
    "\n",
    "capsule_search_params = CapsuleSearchParams(\n",
    "    limit=10,\n",
    "    sort_order=\"desc\",\n",
    "    sort_field=\"name\",\n",
    "    status=\"release\",\n",
    "    archived=False,\n",
    "    favorite=False,\n",
    "    query=\"name:Personal Cancer Genome Reporter\" \n",
    ")\n",
    "\n",
    "capsules = client.capsules.search_capsules(capsule_search_params)\n",
    "\n",
    "# Ensure `capsules` is an object and has the `results` attribute\n",
    "if hasattr(capsules, \"results\") and capsules.results:\n",
    "    for capsule in capsules.results:\n",
    "        print(\"\\nCapsule Information:\")\n",
    "        print(\"-\" * 50)\n",
    "        print(f\"Name: {capsule.name}\")\n",
    "        print(f\"ID: {capsule.id}\")\n",
    "        print(f\"Status: {capsule.status.value}\")  # Enum to string\n",
    "        print(f\"Field: {capsule.field}\")\n",
    "        print(f\"Owner ID: {capsule.owner}\")\n",
    "        print(f\"Slug: {capsule.slug}\")\n",
    "\n",
    "        print(\"\\nDescription:\")\n",
    "        print(capsule.description)\n",
    "\n",
    "        print(\"\\nAvailable Versions:\")\n",
    "        if hasattr(capsule, \"versions\") and capsule.versions:\n",
    "            for version in capsule.versions:\n",
    "                print(f\"  - v{version['major_version']}.{version['minor_version']} (Released: {version['release_time']})\")\n",
    "        else:\n",
    "            print(\"  No versions available.\")\n",
    "        #Save the ID of the capsule of interest\n",
    "        if capsule.name == \"Personal Cancer Genome Reporter\":\n",
    "            pcgr_capsule_id = capsule.id\n",
    "            break  # Stop searching once found\n",
    "        \n",
    "    print(\"\\n\" + \"-\" * 50)\n",
    "else:\n",
    "    print(\"No capsules found.\")\n",
    "\n",
    "#Confirm PCGR ID extracted\n",
    "if pcgr_capsule_id:\n",
    "    print(f\"PCGR Capsule ID: {pcgr_capsule_id}\")\n",
    "else:\n",
    "    print(\"Capsule not found.\")"
   ]
  },
  {
   "cell_type": "markdown",
   "id": "3ef967f7-9b30-4d87-9d2e-325a1616a08b",
   "metadata": {
    "editable": true,
    "slideshow": {
     "slide_type": ""
    },
    "tags": []
   },
   "source": [
    "### Find Data Assets by Tag (eg. patient ID)"
   ]
  },
  {
   "cell_type": "code",
   "execution_count": 29,
   "id": "ce4a4ee3-c550-45cb-953e-087cb7bb0033",
   "metadata": {
    "editable": true,
    "slideshow": {
     "slide_type": ""
    },
    "tags": []
   },
   "outputs": [
    {
     "name": "stdout",
     "output_type": "stream",
     "text": [
      "DataAssetSearchResults(has_more=False,\n",
      "                       results=[DataAsset(id='86cc8096-158d-4c09-99aa-9e7781970520',\n",
      "                                          created=1739128478,\n",
      "                                          name='Output Report and data - '\n",
      "                                               'SRR2089359',\n",
      "                                          mount='vcf',\n",
      "                                          state=<DataAssetState.Ready: 'ready'>,\n",
      "                                          type=<DataAssetType.Result: 'result'>,\n",
      "                                          last_used=1739406876,\n",
      "                                          files=16,\n",
      "                                          size=45258917,\n",
      "                                          description='Variant Calls and '\n",
      "                                                      'associated report from '\n",
      "                                                      'pancreatic tumour '\n",
      "                                                      'sample SRR2089359',\n",
      "                                          tags=['PCGR',\n",
      "                                                'variant calling',\n",
      "                                                'SRR2089359'],\n",
      "                                          provenance=Provenance(commit='86b47d6b683817b8344586d1bea9089da66b3226',\n",
      "                                                                run_script='code/run',\n",
      "                                                                docker_image=None,\n",
      "                                                                capsule='84cce811-3795-4341-9ed4-0e15c551b355',\n",
      "                                                                data_assets=['2bdf1578-2d0d-4ec4-9c53-7d48b02e92db',\n",
      "                                                                             '6397df07-c500-4304-bb2e-5fbb6f620017',\n",
      "                                                                             '8c5559be-088e-4df8-9db4-2ef284327525',\n",
      "                                                                             'e2b6eb22-5dfc-401e-897b-3bf73b54d0b2']),\n",
      "                                          source_bucket=None,\n",
      "                                          custom_metadata={'Project ID': 'SRR2089359',\n",
      "                                                           'Species': 'Human'},\n",
      "                                          app_parameters=None,\n",
      "                                          contained_data_assets=None,\n",
      "                                          last_transferred=None,\n",
      "                                          transfer_error=None,\n",
      "                                          failure_reason=None)],\n",
      "                       next_token=None)\n",
      "\n",
      "--------------------------------------------------\n",
      "DataAsset ID for SRR2089359: 86cc8096-158d-4c09-99aa-9e7781970520\n",
      "\n",
      "--------------------------------------------------\n"
     ]
    }
   ],
   "source": [
    "patient_id = \"SRR2089359\"\n",
    "\n",
    "from codeocean.data_asset import DataAssetSearchParams\n",
    "from pprint import pprint\n",
    "\n",
    "data_asset_params = DataAssetSearchParams(\n",
    "    offset=0,\n",
    "    limit=10, #limit to 10 results\n",
    "    sort_order=\"desc\",\n",
    "    sort_field=\"name\",\n",
    "    archived=False,\n",
    "    favorite=False,\n",
    "    query=\"tag:\"+ patient_id, \n",
    ")\n",
    "\n",
    "data_assets = client.data_assets.search_data_assets(data_asset_params)\n",
    "pprint(data_assets)\n",
    "\n",
    "if hasattr(data_assets, \"results\") and data_assets.results:\n",
    "    for asset in data_assets.results:\n",
    "        if patient_id in asset.name:\n",
    "            my_data_asset_id = asset.id\n",
    "            break  # Stop searching once found\n",
    "\n",
    "\n",
    "# Print the ID  of the data asset if patient ID found \n",
    "if my_data_asset_id:\n",
    "    print(\"\\n\" + \"-\" * 50)\n",
    "    print(f\"DataAsset ID for {patient_id}: {my_data_asset_id}\")\n",
    "    print(\"\\n\" + \"-\" * 50)\n",
    "else:\n",
    "    print(\"\\n\" + \"-\" * 50)\n",
    "    print(\"No matching DataAsset found.\")\n",
    "    print(\"\\n\" + \"-\" * 50)\n"
   ]
  },
  {
   "cell_type": "markdown",
   "id": "266c1e19-2858-4eb2-8ac8-07a623542989",
   "metadata": {},
   "source": [
    "### List files in data asset"
   ]
  },
  {
   "cell_type": "code",
   "execution_count": 30,
   "id": "51858b8f-d107-4292-957a-9270606312ad",
   "metadata": {
    "editable": true,
    "slideshow": {
     "slide_type": ""
    },
    "tags": []
   },
   "outputs": [
    {
     "name": "stdout",
     "output_type": "stream",
     "text": [
      "Folder(items=[FolderItem(name='SRR2089359.pcgr.grch38.conf.yaml',\n",
      "                         path='SRR2089359.pcgr.grch38.conf.yaml',\n",
      "                         type='file',\n",
      "                         size=181056),\n",
      "              FolderItem(name='SRR2089359.pcgr.grch38.html',\n",
      "                         path='SRR2089359.pcgr.grch38.html',\n",
      "                         type='file',\n",
      "                         size=17764353),\n",
      "              FolderItem(name='SRR2089359.pcgr.grch38.msigs.tsv.gz',\n",
      "                         path='SRR2089359.pcgr.grch38.msigs.tsv.gz',\n",
      "                         type='file',\n",
      "                         size=2526),\n",
      "              FolderItem(name='SRR2089359.pcgr.grch38.pass.tsv.gz',\n",
      "                         path='SRR2089359.pcgr.grch38.pass.tsv.gz',\n",
      "                         type='file',\n",
      "                         size=5724999),\n",
      "              FolderItem(name='SRR2089359.pcgr.grch38.pass.vcf.gz',\n",
      "                         path='SRR2089359.pcgr.grch38.pass.vcf.gz',\n",
      "                         type='file',\n",
      "                         size=6779454),\n",
      "              FolderItem(name='SRR2089359.pcgr.grch38.pass.vcf.gz.tbi',\n",
      "                         path='SRR2089359.pcgr.grch38.pass.vcf.gz.tbi',\n",
      "                         type='file',\n",
      "                         size=103121),\n",
      "              FolderItem(name='SRR2089359.pcgr.grch38.snv_indel_ann.tsv.gz',\n",
      "                         path='SRR2089359.pcgr.grch38.snv_indel_ann.tsv.gz',\n",
      "                         type='file',\n",
      "                         size=1644417),\n",
      "              FolderItem(name='SRR2089359.pcgr.grch38.tmb.tsv',\n",
      "                         path='SRR2089359.pcgr.grch38.tmb.tsv',\n",
      "                         type='file',\n",
      "                         size=617),\n",
      "              FolderItem(name='SRR2089359.pcgr.grch38.vcf.gz',\n",
      "                         path='SRR2089359.pcgr.grch38.vcf.gz',\n",
      "                         type='file',\n",
      "                         size=6779454),\n",
      "              FolderItem(name='SRR2089359.pcgr.grch38.vcf.gz.tbi',\n",
      "                         path='SRR2089359.pcgr.grch38.vcf.gz.tbi',\n",
      "                         type='file',\n",
      "                         size=103121),\n",
      "              FolderItem(name='SRR2089359.pcgr.grch38.xlsx',\n",
      "                         path='SRR2089359.pcgr.grch38.xlsx',\n",
      "                         type='file',\n",
      "                         size=543301),\n",
      "              FolderItem(name='SRR2089359_normal_marked_duplicates_marked_duplicates_BQSR_somatic.vcf',\n",
      "                         path='SRR2089359_normal_marked_duplicates_marked_duplicates_BQSR_somatic.vcf',\n",
      "                         type='file',\n",
      "                         size=4149086),\n",
      "              FolderItem(name='SRR2089359_normal_marked_duplicates_marked_duplicates_BQSR_somatic.vcf.gz',\n",
      "                         path='SRR2089359_normal_marked_duplicates_marked_duplicates_BQSR_somatic.vcf.gz',\n",
      "                         type='file',\n",
      "                         size=1367639),\n",
      "              FolderItem(name='SRR2089359_normal_marked_duplicates_marked_duplicates_BQSR_somatic.vcf.gz.stats',\n",
      "                         path='SRR2089359_normal_marked_duplicates_marked_duplicates_BQSR_somatic.vcf.gz.stats',\n",
      "                         type='file',\n",
      "                         size=38),\n",
      "              FolderItem(name='SRR2089359_normal_marked_duplicates_marked_duplicates_BQSR_somatic.vcf.gz.tbi',\n",
      "                         path='SRR2089359_normal_marked_duplicates_marked_duplicates_BQSR_somatic.vcf.gz.tbi',\n",
      "                         type='file',\n",
      "                         size=96243),\n",
      "              FolderItem(name='output', path='output', type='file', size=19492)])\n"
     ]
    }
   ],
   "source": [
    "file_paths = client.data_assets.list_data_asset_files(\n",
    "    data_asset_id=my_data_asset_id,\n",
    ")\n",
    "pprint(file_paths)\n"
   ]
  },
  {
   "cell_type": "markdown",
   "id": "01286c25-63c4-4eac-b8c2-bc439a20a0ed",
   "metadata": {},
   "source": [
    "### Validate the correct data asset is found"
   ]
  },
  {
   "cell_type": "code",
   "execution_count": 31,
   "id": "dd145f89-6ad0-482b-9ebb-8e9cb9eb1625",
   "metadata": {
    "editable": true,
    "slideshow": {
     "slide_type": ""
    },
    "tags": []
   },
   "outputs": [
    {
     "name": "stdout",
     "output_type": "stream",
     "text": [
      "Valid VCF and VCF.GZ pairs found:\n",
      " - SRR2089359_normal_marked_duplicates_marked_duplicates_BQSR_somatic.vcf and SRR2089359_normal_marked_duplicates_marked_duplicates_BQSR_somatic.vcf.gz\n"
     ]
    }
   ],
   "source": [
    "# check for a given file type:\n",
    "\n",
    "# Extract all file names from file_paths\n",
    "file_names = {item.name for item in file_paths.items}\n",
    "\n",
    "# Store matching .vcf and .vcf.gz files\n",
    "vcf_files = set()\n",
    "vcf_gz_files = set()\n",
    "\n",
    "# Iterate through file names and classify them\n",
    "for file_name in file_names:\n",
    "    if patient_id in file_name and \"somatic\" in file_name:\n",
    "        if file_name.endswith(\".vcf\"):\n",
    "            vcf_files.add(file_name)\n",
    "        elif file_name.endswith(\".vcf.gz\"):\n",
    "            vcf_gz_files.add(file_name)\n",
    "\n",
    "# Check if corresponding .vcf and .vcf.gz exist for the same base name\n",
    "valid_pairs = []\n",
    "for vcf in vcf_files:\n",
    "    base_name = vcf.rsplit(\".vcf\", 1)[0]  # Remove .vcf extension\n",
    "    gz_variant = base_name + \".vcf.gz\"  # Expected compressed variant\n",
    "    if gz_variant in vcf_gz_files:\n",
    "        valid_pairs.append((vcf, gz_variant))\n",
    "\n",
    "# Print validation results\n",
    "if valid_pairs:\n",
    "    print(\"Valid VCF and VCF.GZ pairs found:\")\n",
    "    for pair in valid_pairs:\n",
    "        print(f\" - {pair[0]} and {pair[1]}\")\n",
    "else:\n",
    "    print(\"No valid VCF and VCF.GZ pairs found.\")"
   ]
  },
  {
   "cell_type": "markdown",
   "id": "ccad30e5-ae76-405a-88e1-c55a8af93abf",
   "metadata": {},
   "source": [
    "### Attach Data Assets to Capsule, and run with desired Parameters \n"
   ]
  },
  {
   "cell_type": "code",
   "execution_count": 32,
   "id": "228169bb-5d54-46ca-bcee-5834e4123ad0",
   "metadata": {},
   "outputs": [],
   "source": [
    "from codeocean.computation import RunParams, DataAssetsRunParam\n",
    "\n",
    "data_assets=[\n",
    "        DataAssetsRunParam(id=my_data_asset_id, mount=\"output_report\")\n",
    "        ]    \n",
    "\n",
    "run_params = RunParams(capsule_id=pcgr_capsule_id,\n",
    "                       data_assets=data_assets,\n",
    "                       version=6, #specify the release version\n",
    "                       parameters=[\n",
    "                              patient_id,\"19\",\"1\",\"2\",\"WES\" #list ordered paramters\n",
    "                              ]    \n",
    "                )\n",
    "\n",
    "computation = client.computations.run_capsule(run_params)"
   ]
  },
  {
   "cell_type": "markdown",
   "id": "aeba79d8-9254-4330-8aa3-312270169de4",
   "metadata": {},
   "source": [
    "### Run Capsule and check computation status "
   ]
  },
  {
   "cell_type": "code",
   "execution_count": 33,
   "id": "190dfd32-2ebc-4ccf-acad-db770c0d104a",
   "metadata": {},
   "outputs": [
    {
     "name": "stdout",
     "output_type": "stream",
     "text": [
      "[2025-02-13 11:38:02] Computation started, current state: running\n",
      "[2025-02-13 11:38:02] Current state: running. Waiting 30 seconds before re-checking...\n",
      "pinging platform\n",
      "\n",
      "--------------------------------------------------\n",
      "[2025-02-13 11:38:32] Current state: running. Waiting 30 seconds before re-checking...\n",
      "pinging platform\n",
      "\n",
      "--------------------------------------------------\n",
      "[2025-02-13 11:39:02] Current state: running. Waiting 30 seconds before re-checking...\n",
      "pinging platform\n",
      "\n",
      "--------------------------------------------------\n",
      "[2025-02-13 11:39:32] Current state: running. Waiting 30 seconds before re-checking...\n",
      "pinging platform\n",
      "\n",
      "--------------------------------------------------\n",
      "[2025-02-13 11:40:02] Current state: running. Waiting 30 seconds before re-checking...\n",
      "pinging platform\n",
      "\n",
      "--------------------------------------------------\n",
      "[2025-02-13 11:40:32] Current state: running. Waiting 30 seconds before re-checking...\n",
      "pinging platform\n",
      "\n",
      "--------------------------------------------------\n",
      "[2025-02-13 11:41:03] Current state: running. Waiting 30 seconds before re-checking...\n",
      "pinging platform\n",
      "\n",
      "--------------------------------------------------\n",
      "[2025-02-13 11:41:33] Current state: running. Waiting 30 seconds before re-checking...\n",
      "pinging platform\n",
      "\n",
      "--------------------------------------------------\n",
      "[2025-02-13 11:42:03] Current state: running. Waiting 30 seconds before re-checking...\n",
      "pinging platform\n",
      "\n",
      "--------------------------------------------------\n",
      "[2025-02-13 11:42:33] Computation finished with state: completed\n",
      "\n",
      "--------------------------------------------------\n",
      "Computation(id='12c72fa6-ae9e-4087-81ee-a64f166f03cf',\n",
      "            created=1739446655,\n",
      "            name='Run With Parameters 9446655',\n",
      "            run_time=289,\n",
      "            state=<ComputationState.Completed: 'completed'>,\n",
      "            cloud_workstation=None,\n",
      "            data_assets=[InputDataAsset(id='86cc8096-158d-4c09-99aa-9e7781970520',\n",
      "                                        mount='output_report'),\n",
      "                         InputDataAsset(id='8c5559be-088e-4df8-9db4-2ef284327525',\n",
      "                                        mount='VEP_Cache'),\n",
      "                         InputDataAsset(id='f8ad4758-48d0-4f26-baed-acaa661c76be',\n",
      "                                        mount='Sample_VCF'),\n",
      "                         InputDataAsset(id='6397df07-c500-4304-bb2e-5fbb6f620017',\n",
      "                                        mount='Reference_bundle')],\n",
      "            parameters=[Param(name='Sample ID',\n",
      "                              param_name=None,\n",
      "                              value='SRR2089359'),\n",
      "                        Param(name='Tumour Site', param_name=None, value='19'),\n",
      "                        Param(name='Tumour Purity', param_name=None, value='1'),\n",
      "                        Param(name='Tumour Ploidy', param_name=None, value='2'),\n",
      "                        Param(name='Assay Type', param_name=None, value='WES')],\n",
      "            processes=None,\n",
      "            end_status=<ComputationEndStatus.Succeeded: 'succeeded'>,\n",
      "            exit_code=0,\n",
      "            has_results=True)\n"
     ]
    }
   ],
   "source": [
    "#get status\n",
    "status = client.computations.get_computation(computation_id=computation.id)\n",
    "print(f\"[{time.strftime('%Y-%m-%d %H:%M:%S')}] Computation started, current state: {status.state.value}\")\n",
    "\n",
    "import time\n",
    "# Poll every 30 seconds until the state is no longer 'initializing' or 'running'\n",
    "while status.state.value in (\"initializing\", \"running\"):\n",
    "    print(f\"[{time.strftime('%Y-%m-%d %H:%M:%S')}] Current state: {status.state.value}. Waiting 30 seconds before re-checking...\")\n",
    "    time.sleep(30)\n",
    "    print(\"pinging platform\")\n",
    "    print(\"\\n\" + \"-\" * 50)\n",
    "    status = client.computations.get_computation(computation_id=computation.id)\n",
    "\n",
    "\n",
    "# When the loop exits, the computation is finished or in a terminal state\n",
    "print(f\"[{time.strftime('%Y-%m-%d %H:%M:%S')}] Computation finished with state: {status.state.value}\")\n",
    "print(\"\\n\" + \"-\" * 50)\n",
    "pprint(status)"
   ]
  },
  {
   "cell_type": "markdown",
   "id": "816d08cf-f31d-47b3-a69d-f52e0da63724",
   "metadata": {},
   "source": [
    "### Preview Results"
   ]
  },
  {
   "cell_type": "code",
   "execution_count": 34,
   "id": "843e7466-9e5d-4c1a-8b3d-2872fef1a32f",
   "metadata": {},
   "outputs": [
    {
     "name": "stdout",
     "output_type": "stream",
     "text": [
      "Folder(items=[FolderItem(name='SRR2089359.pcgr.grch38.conf.yaml',\n",
      "                         path='SRR2089359.pcgr.grch38.conf.yaml',\n",
      "                         type='file',\n",
      "                         size=180894),\n",
      "              FolderItem(name='SRR2089359.pcgr.grch38.html',\n",
      "                         path='SRR2089359.pcgr.grch38.html',\n",
      "                         type='file',\n",
      "                         size=17764211),\n",
      "              FolderItem(name='SRR2089359.pcgr.grch38.msigs.tsv.gz',\n",
      "                         path='SRR2089359.pcgr.grch38.msigs.tsv.gz',\n",
      "                         type='file',\n",
      "                         size=2467),\n",
      "              FolderItem(name='SRR2089359.pcgr.grch38.pass.tsv.gz',\n",
      "                         path='SRR2089359.pcgr.grch38.pass.tsv.gz',\n",
      "                         type='file',\n",
      "                         size=5724999),\n",
      "              FolderItem(name='SRR2089359.pcgr.grch38.pass.vcf.gz',\n",
      "                         path='SRR2089359.pcgr.grch38.pass.vcf.gz',\n",
      "                         type='file',\n",
      "                         size=6779439),\n",
      "              FolderItem(name='SRR2089359.pcgr.grch38.pass.vcf.gz.tbi',\n",
      "                         path='SRR2089359.pcgr.grch38.pass.vcf.gz.tbi',\n",
      "                         type='file',\n",
      "                         size=103068),\n",
      "              FolderItem(name='SRR2089359.pcgr.grch38.snv_indel_ann.tsv.gz',\n",
      "                         path='SRR2089359.pcgr.grch38.snv_indel_ann.tsv.gz',\n",
      "                         type='file',\n",
      "                         size=1644417),\n",
      "              FolderItem(name='SRR2089359.pcgr.grch38.tmb.tsv',\n",
      "                         path='SRR2089359.pcgr.grch38.tmb.tsv',\n",
      "                         type='file',\n",
      "                         size=617),\n",
      "              FolderItem(name='SRR2089359.pcgr.grch38.vcf.gz',\n",
      "                         path='SRR2089359.pcgr.grch38.vcf.gz',\n",
      "                         type='file',\n",
      "                         size=6779439),\n",
      "              FolderItem(name='SRR2089359.pcgr.grch38.vcf.gz.tbi',\n",
      "                         path='SRR2089359.pcgr.grch38.vcf.gz.tbi',\n",
      "                         type='file',\n",
      "                         size=103068),\n",
      "              FolderItem(name='SRR2089359.pcgr.grch38.xlsx',\n",
      "                         path='SRR2089359.pcgr.grch38.xlsx',\n",
      "                         type='file',\n",
      "                         size=543201),\n",
      "              FolderItem(name='output', path='output', type='file', size=71798)])\n"
     ]
    }
   ],
   "source": [
    "# Get results\n",
    "\n",
    "result_paths = client.computations.list_computation_results(\n",
    "    computation_id=computation.id,\n",
    ")\n",
    "pprint(result_paths)"
   ]
  },
  {
   "cell_type": "markdown",
   "id": "db1a0400-dc96-4d13-aa96-fd4040ce6d1e",
   "metadata": {},
   "source": [
    "### Create Results Data Asset"
   ]
  },
  {
   "cell_type": "code",
   "execution_count": 35,
   "id": "2088e29c-1704-4848-a426-41319ac9a56a",
   "metadata": {},
   "outputs": [],
   "source": [
    "#create results data asset\n",
    "\n",
    "DataAssetName = \"Cancer Report\"\n",
    "DataAssetDescription = \"The PCGR workflow summarises and prioritizes the annotated variants in a structured and interactive report, adopting recently proposed recommendations (Dienstmann et al., 2014; Ritter et al., 2016). Specifically, a tiered report is constructed, starting from actionable markers in Tier 1, toward aberrations relevant for tumorigenesis in Tier 2 and 3, and ending with variants of unknown functional relevance in Tier 4 and 5. In addition to the tier structure, mutated genes in Tier 3-5 are prioritized by means of the above-mentioned literature-derived score for oncogenic potential, which draws attention to the most relevant findings.\"\n",
    "\n",
    "data_asset_params = DataAssetParams(\n",
    "    name=DataAssetName,\n",
    "    description=DataAssetDescription,\n",
    "    mount=\"Report\",\n",
    "    tags=[\"Project12345\", \"PCGR\"],\n",
    "    source=Source(\n",
    "        computation=ComputationSource(\n",
    "            id=computation.id,\n",
    "            path=\"\"\n",
    "        ),\n",
    "    )\n",
    ")\n",
    "    \n",
    "data_asset = client.data_assets.create_data_asset(data_asset_params)"
   ]
  },
  {
   "cell_type": "code",
   "execution_count": 36,
   "id": "5cb76683-70e9-4fdf-a651-eecd06c79847",
   "metadata": {},
   "outputs": [
    {
     "name": "stdout",
     "output_type": "stream",
     "text": [
      "DataAsset(id='384d13bc-92b2-4087-808a-bfc7e79cabb2',\n",
      "          created=1739447282,\n",
      "          name='',\n",
      "          mount='Report',\n",
      "          state=<DataAssetState.Draft: 'draft'>,\n",
      "          type=<DataAssetType.Result: 'result'>,\n",
      "          last_used=0,\n",
      "          files=None,\n",
      "          size=None,\n",
      "          description='The PCGR workflow summarises and prioritizes the '\n",
      "                      'annotated variants in a structured and interactive '\n",
      "                      'report, adopting recently proposed recommendations '\n",
      "                      '(Dienstmann et al., 2014; Ritter et al., 2016). '\n",
      "                      'Specifically, a tiered report is constructed, starting '\n",
      "                      'from actionable markers in Tier 1, toward aberrations '\n",
      "                      'relevant for tumorigenesis in Tier 2 and 3, and ending '\n",
      "                      'with variants of unknown functional relevance in Tier 4 '\n",
      "                      'and 5. In addition to the tier structure, mutated genes '\n",
      "                      'in Tier 3-5 are prioritized by means of the '\n",
      "                      'above-mentioned literature-derived score for oncogenic '\n",
      "                      'potential, which draws attention to the most relevant '\n",
      "                      'findings.',\n",
      "          tags=['Project12345', 'PCGR'],\n",
      "          provenance=Provenance(commit='2e52647aeb224758edec09b7c77db9551d87848f',\n",
      "                                run_script='code/run',\n",
      "                                docker_image='f76226b8-ba42-4bf6-a361-437679d36435',\n",
      "                                capsule='dc428b3a-823d-4939-b4c4-a644df1f51b3',\n",
      "                                data_assets=['f8ad4758-48d0-4f26-baed-acaa661c76be',\n",
      "                                             '6397df07-c500-4304-bb2e-5fbb6f620017',\n",
      "                                             '86cc8096-158d-4c09-99aa-9e7781970520',\n",
      "                                             '8c5559be-088e-4df8-9db4-2ef284327525']),\n",
      "          source_bucket=None,\n",
      "          custom_metadata=None,\n",
      "          app_parameters=[AppParameter(name='Sample ID', value='SRR2089359'),\n",
      "                          AppParameter(name='Tumour Site', value='19'),\n",
      "                          AppParameter(name='Tumour Purity', value='1'),\n",
      "                          AppParameter(name='Tumour Ploidy', value='2'),\n",
      "                          AppParameter(name='Assay Type', value='WES')],\n",
      "          contained_data_assets=None,\n",
      "          last_transferred=None,\n",
      "          transfer_error=None,\n",
      "          failure_reason=None)\n"
     ]
    }
   ],
   "source": [
    "pprint(data_asset)"
   ]
  },
  {
   "cell_type": "code",
   "execution_count": null,
   "id": "c0099425-3275-4590-972b-ea29e6bd97bd",
   "metadata": {},
   "outputs": [],
   "source": []
  }
 ],
 "metadata": {
  "kernelspec": {
   "display_name": "Python 3 (ipykernel)",
   "language": "python",
   "name": "python3"
  },
  "language_info": {
   "codemirror_mode": {
    "name": "ipython",
    "version": 3
   },
   "file_extension": ".py",
   "mimetype": "text/x-python",
   "name": "python",
   "nbconvert_exporter": "python",
   "pygments_lexer": "ipython3",
   "version": "3.12.4"
  }
 },
 "nbformat": 4,
 "nbformat_minor": 5
}
